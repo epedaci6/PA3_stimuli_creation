{
 "cells": [
  {
   "cell_type": "code",
   "execution_count": 9,
   "id": "345e5355-cc64-4b1d-9a95-bf411fe6929b",
   "metadata": {},
   "outputs": [],
   "source": [
    "# set of image .jpgs\n",
    "# set of words\n",
    "\n",
    "\n",
    "import pandas as pd\n",
    "import numpy as np\n",
    "import os"
   ]
  },
  {
   "cell_type": "code",
   "execution_count": 10,
   "id": "a88ce128-499d-4424-95a4-6a6eaa431905",
   "metadata": {},
   "outputs": [],
   "source": [
    "image_stimuli = pd.read_csv('image_stimuli.csv')\n",
    "word_stimuli = pd.read_csv('word_stimuli.csv')\n",
    "\n",
    "face_rows = image_stimuli['PAIREDW']=='F'\n",
    "place_rows = image_stimuli['PAIREDW']=='P'\n",
    "\n",
    "nfaces = 200\n",
    "nplaces = 200\n",
    "nwords = nfaces + nplaces\n",
    "nlures = 150\n",
    "\n",
    "# randomly sample 200 faces\n",
    "# randomly sample 200 places\n",
    "# randomly sample 400 words\n",
    "# randomly sample 150 words (lures)\n"
   ]
  },
  {
   "cell_type": "code",
   "execution_count": 11,
   "id": "e1a69ec8-a2c7-4717-9113-2a88b558297c",
   "metadata": {},
   "outputs": [],
   "source": [
    "\n",
    "# wrap this in a loop\n",
    "\n",
    "# stack vertically sampled_faces and sampled_places\n",
    "sampled_faces = image_stimuli['IMAGESTIM'][face_rows].sample(n=nfaces)\n",
    "sampled_places = image_stimuli['IMAGESTIM'][place_rows].sample(n=nplaces)\n",
    "pd.concat([sampled_faces,sampled_places]).values\n",
    "\n",
    "sampled_words = word_stimuli.sample(nwords + nlures)\n",
    "\n",
    "# attach horizontally this column\n",
    "sampled_words_encoding = sampled_words[0:nfaces + nplaces]\n",
    "\n",
    "\n",
    "# thedataframeyoucreated.to_csv(fname)\n",
    "# save a dataframe to output file: sub-XYZ_stimulus_seq_enc.csv\n",
    "\n",
    "# maybe have a separate file for retrieval\n",
    "# stack vertically both sets of words, randomized\n",
    "sampled_words_lures = sampled_words[(nfaces + nplaces):]\n",
    "# save a dataframe to output file: sub-XYZ_stimulus_seq_ret.csv\n",
    "\n"
   ]
  },
  {
   "cell_type": "code",
   "execution_count": 12,
   "id": "b30033ec-8b06-471e-bc76-86a47b10a4cc",
   "metadata": {},
   "outputs": [
    {
     "data": {
      "text/plain": [
       "array([], dtype=object)"
      ]
     },
     "execution_count": 12,
     "metadata": {},
     "output_type": "execute_result"
    }
   ],
   "source": [
    "np.intersect1d(sampled_words_lures,sampled_words_encoding)"
   ]
  },
  {
   "cell_type": "code",
   "execution_count": null,
   "id": "a78073f0-f694-469c-8ab6-bcd16c436d83",
   "metadata": {},
   "outputs": [],
   "source": []
  },
  {
   "cell_type": "code",
   "execution_count": 13,
   "id": "eb05fe5f-4520-4932-9471-21137e81622f",
   "metadata": {
    "scrolled": true
   },
   "outputs": [
    {
     "name": "stdout",
     "output_type": "stream",
     "text": [
      "Variable                 Type         Data/Info\n",
      "-----------------------------------------------\n",
      "face_rows                Series       0       True\\n1       Tru<...> Length: 600, dtype: bool\n",
      "image_stimuli            DataFrame                             <...>n\\n[600 rows x 2 columns]\n",
      "nfaces                   int          200\n",
      "nlures                   int          150\n",
      "np                       module       <module 'numpy' from '/op<...>kages/numpy/__init__.py'>\n",
      "nplaces                  int          200\n",
      "nwords                   int          400\n",
      "pd                       module       <module 'pandas' from '/o<...>ages/pandas/__init__.py'>\n",
      "place_rows               Series       0      False\\n1      Fals<...> Length: 600, dtype: bool\n",
      "sampled_faces            Series       113    Giannis_Antetokoun<...>ength: 200, dtype: object\n",
      "sampled_places           Series       432        Middletown_Con<...>ength: 200, dtype: object\n",
      "sampled_words            DataFrame           WORDSTIM\\n268     <...>n\\n[550 rows x 1 columns]\n",
      "sampled_words_encoding   DataFrame           WORDSTIM\\n268     <...>n\\n[400 rows x 1 columns]\n",
      "sampled_words_lures      DataFrame          WORDSTIM\\n330      <...>n\\n[150 rows x 1 columns]\n",
      "word_stimuli             DataFrame         WORDSTIM\\n0       LU<...>n\\n[750 rows x 1 columns]\n"
     ]
    }
   ],
   "source": [
    "%whos"
   ]
  },
  {
   "cell_type": "code",
   "execution_count": null,
   "id": "005094e8-11e1-4003-93d8-38da63995721",
   "metadata": {},
   "outputs": [],
   "source": [
    "base_folder = os.path.join(os.path.join(os.path.expanduser('~'), 'Desktop', 'PA3', 'PA2_reimplemented', 'participant_stim')\n",
    "\n",
    "os.makedirs(base_folder, exist_ok=True)\n",
    "                           \n",
    "def create_stimuli_set(participant_id):\n",
    "    #create participant folder inside of participant_stim\n",
    "    folder_name = os.path.join(base_folder, f'Participant_{participant_id}')\n",
    "    os.makedirs(folder_name, exist_ok=True)]\n",
    "\n",
    "stimuli = nfaces + nplaces\n",
    "\n"
   ]
  }
 ],
 "metadata": {
  "kernelspec": {
   "display_name": "Python 3 (ipykernel)",
   "language": "python",
   "name": "python3"
  },
  "language_info": {
   "codemirror_mode": {
    "name": "ipython",
    "version": 3
   },
   "file_extension": ".py",
   "mimetype": "text/x-python",
   "name": "python",
   "nbconvert_exporter": "python",
   "pygments_lexer": "ipython3",
   "version": "3.12.7"
  }
 },
 "nbformat": 4,
 "nbformat_minor": 5
}
